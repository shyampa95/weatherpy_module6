{
 "cells": [
  {
   "cell_type": "markdown",
   "metadata": {},
   "source": [
    "## Deliverable 3. Create a Travel Itinerary Map."
   ]
  },
  {
   "cell_type": "code",
   "execution_count": 17,
   "metadata": {},
   "outputs": [],
   "source": [
    "# Dependencies and Setup\n",
    "import pandas as pd\n",
    "import requests\n",
    "import gmaps\n",
    "\n",
    "# Import API key\n",
    "from config import g_key\n",
    "\n",
    "# Configure gmaps\n",
    "gmaps.configure(api_key=g_key)"
   ]
  },
  {
   "cell_type": "code",
   "execution_count": 18,
   "metadata": {},
   "outputs": [
    {
     "data": {
      "text/html": [
       "<div>\n",
       "<style scoped>\n",
       "    .dataframe tbody tr th:only-of-type {\n",
       "        vertical-align: middle;\n",
       "    }\n",
       "\n",
       "    .dataframe tbody tr th {\n",
       "        vertical-align: top;\n",
       "    }\n",
       "\n",
       "    .dataframe thead th {\n",
       "        text-align: right;\n",
       "    }\n",
       "</style>\n",
       "<table border=\"1\" class=\"dataframe\">\n",
       "  <thead>\n",
       "    <tr style=\"text-align: right;\">\n",
       "      <th></th>\n",
       "      <th>City_ID</th>\n",
       "      <th>City</th>\n",
       "      <th>Country</th>\n",
       "      <th>Max Temp</th>\n",
       "      <th>Weather Description</th>\n",
       "      <th>Lat</th>\n",
       "      <th>Lng</th>\n",
       "      <th>Hotel Name</th>\n",
       "    </tr>\n",
       "  </thead>\n",
       "  <tbody>\n",
       "    <tr>\n",
       "      <th>0</th>\n",
       "      <td>0</td>\n",
       "      <td>Noormarkku</td>\n",
       "      <td>FI</td>\n",
       "      <td>41.00</td>\n",
       "      <td>clear sky</td>\n",
       "      <td>61.5927</td>\n",
       "      <td>21.8685</td>\n",
       "      <td>Ahlströmin Ruukki Noormarkku</td>\n",
       "    </tr>\n",
       "    <tr>\n",
       "      <th>1</th>\n",
       "      <td>8</td>\n",
       "      <td>Kyzyl-Suu</td>\n",
       "      <td>KG</td>\n",
       "      <td>39.09</td>\n",
       "      <td>overcast clouds</td>\n",
       "      <td>42.3414</td>\n",
       "      <td>78.0056</td>\n",
       "      <td>Gostinitsa Nur-Ordo</td>\n",
       "    </tr>\n",
       "    <tr>\n",
       "      <th>2</th>\n",
       "      <td>10</td>\n",
       "      <td>Nakhodka</td>\n",
       "      <td>RU</td>\n",
       "      <td>37.08</td>\n",
       "      <td>overcast clouds</td>\n",
       "      <td>42.8333</td>\n",
       "      <td>132.8947</td>\n",
       "      <td>Apartment on Pogranichnaya</td>\n",
       "    </tr>\n",
       "    <tr>\n",
       "      <th>3</th>\n",
       "      <td>12</td>\n",
       "      <td>Agapovka</td>\n",
       "      <td>RU</td>\n",
       "      <td>21.20</td>\n",
       "      <td>broken clouds</td>\n",
       "      <td>53.2973</td>\n",
       "      <td>59.1348</td>\n",
       "      <td>Gostinitsa Zhkkh</td>\n",
       "    </tr>\n",
       "    <tr>\n",
       "      <th>4</th>\n",
       "      <td>43</td>\n",
       "      <td>Hornepayne</td>\n",
       "      <td>CA</td>\n",
       "      <td>27.25</td>\n",
       "      <td>snow</td>\n",
       "      <td>49.2138</td>\n",
       "      <td>-84.7705</td>\n",
       "      <td>Jackfish River Inn</td>\n",
       "    </tr>\n",
       "  </tbody>\n",
       "</table>\n",
       "</div>"
      ],
      "text/plain": [
       "   City_ID        City Country  Max Temp Weather Description      Lat  \\\n",
       "0        0  Noormarkku      FI     41.00           clear sky  61.5927   \n",
       "1        8   Kyzyl-Suu      KG     39.09     overcast clouds  42.3414   \n",
       "2       10    Nakhodka      RU     37.08     overcast clouds  42.8333   \n",
       "3       12    Agapovka      RU     21.20       broken clouds  53.2973   \n",
       "4       43  Hornepayne      CA     27.25                snow  49.2138   \n",
       "\n",
       "        Lng                    Hotel Name  \n",
       "0   21.8685  Ahlströmin Ruukki Noormarkku  \n",
       "1   78.0056           Gostinitsa Nur-Ordo  \n",
       "2  132.8947    Apartment on Pogranichnaya  \n",
       "3   59.1348              Gostinitsa Zhkkh  \n",
       "4  -84.7705            Jackfish River Inn  "
      ]
     },
     "execution_count": 18,
     "metadata": {},
     "output_type": "execute_result"
    }
   ],
   "source": [
    "# 1. Read the WeatherPy_vacation.csv into a DataFrame.\n",
    "vacation_df = pd.read_csv(\"Vacation_Search/WeatherPy_vacation.csv\")\n",
    "vacation_df.head()"
   ]
  },
  {
   "cell_type": "code",
   "execution_count": 19,
   "metadata": {},
   "outputs": [],
   "source": [
    "# 2. Using the template add the city name, the country code, the weather description and maximum temperature for the city.\n",
    "info_box_template =\"\"\"\n",
    "<dl>\n",
    "<dt>Hotel Name</dt><dd>{Hotel Name}</dd>\n",
    "<dt>City</dt><dd>{City}</dd>\n",
    "<dt>Country</dt><dd>{Country}</dd>\n",
    "<dt>Current Weather</dt><dd>{Weather Description} and {Max Temp} °F</dd>\n",
    "</dl>\n",
    "\"\"\"\n",
    "\n",
    "# 3a. Get the data from each row and add it to the formatting template and store the data in a list.\n",
    "hotel_info = [info_box_template.format(**row) for index, row in vacation_df.iterrows()]\n",
    "\n",
    "# 3b. Get the latitude and longitude from each row and store in a new DataFrame.\n",
    "locations = vacation_df[[\"Lat\", \"Lng\"]]"
   ]
  },
  {
   "cell_type": "code",
   "execution_count": 20,
   "metadata": {
    "collapsed": true
   },
   "outputs": [
    {
     "data": {
      "text/plain": [
       "['\\n<dl>\\n<dt>Hotel Name</dt><dd>Ahlströmin Ruukki Noormarkku</dd>\\n<dt>City</dt><dd>Noormarkku</dd>\\n<dt>Country</dt><dd>FI</dd>\\n<dt>Current Weather</dt><dd>clear sky and 41.0 °F</dd>\\n</dl>\\n',\n",
       " '\\n<dl>\\n<dt>Hotel Name</dt><dd>Gostinitsa Nur-Ordo</dd>\\n<dt>City</dt><dd>Kyzyl-Suu</dd>\\n<dt>Country</dt><dd>KG</dd>\\n<dt>Current Weather</dt><dd>overcast clouds and 39.09 °F</dd>\\n</dl>\\n',\n",
       " '\\n<dl>\\n<dt>Hotel Name</dt><dd>Apartment on Pogranichnaya</dd>\\n<dt>City</dt><dd>Nakhodka</dd>\\n<dt>Country</dt><dd>RU</dd>\\n<dt>Current Weather</dt><dd>overcast clouds and 37.08 °F</dd>\\n</dl>\\n',\n",
       " '\\n<dl>\\n<dt>Hotel Name</dt><dd>Gostinitsa Zhkkh</dd>\\n<dt>City</dt><dd>Agapovka</dd>\\n<dt>Country</dt><dd>RU</dd>\\n<dt>Current Weather</dt><dd>broken clouds and 21.2 °F</dd>\\n</dl>\\n',\n",
       " '\\n<dl>\\n<dt>Hotel Name</dt><dd>Jackfish River Inn</dd>\\n<dt>City</dt><dd>Hornepayne</dd>\\n<dt>Country</dt><dd>CA</dd>\\n<dt>Current Weather</dt><dd>snow and 27.25 °F</dd>\\n</dl>\\n',\n",
       " '\\n<dl>\\n<dt>Hotel Name</dt><dd>Albatros Hotel</dd>\\n<dt>City</dt><dd>Ushuaia</dd>\\n<dt>Country</dt><dd>AR</dd>\\n<dt>Current Weather</dt><dd>broken clouds and 44.6 °F</dd>\\n</dl>\\n',\n",
       " '\\n<dl>\\n<dt>Hotel Name</dt><dd>Nordkapp Vandrerhjem</dd>\\n<dt>City</dt><dd>Honningsvag</dd>\\n<dt>Country</dt><dd>NO</dd>\\n<dt>Current Weather</dt><dd>clear sky and 39.2 °F</dd>\\n</dl>\\n',\n",
       " '\\n<dl>\\n<dt>Hotel Name</dt><dd>Derevo Zhelaniy</dd>\\n<dt>City</dt><dd>Kovdor</dd>\\n<dt>Country</dt><dd>RU</dd>\\n<dt>Current Weather</dt><dd>broken clouds and 34.27 °F</dd>\\n</dl>\\n',\n",
       " '\\n<dl>\\n<dt>Hotel Name</dt><dd>Kak Doma</dd>\\n<dt>City</dt><dd>Severo-Kurilsk</dd>\\n<dt>Country</dt><dd>RU</dd>\\n<dt>Current Weather</dt><dd>broken clouds and 23.92 °F</dd>\\n</dl>\\n',\n",
       " '\\n<dl>\\n<dt>Hotel Name</dt><dd>Groven Camping og Hyttegrend AS</dd>\\n<dt>City</dt><dd>Amot</dd>\\n<dt>Country</dt><dd>NO</dd>\\n<dt>Current Weather</dt><dd>few clouds and 23.56 °F</dd>\\n</dl>\\n',\n",
       " '\\n<dl>\\n<dt>Hotel Name</dt><dd>Hotel Olafsvik</dd>\\n<dt>City</dt><dd>Olafsvik</dd>\\n<dt>Country</dt><dd>IS</dd>\\n<dt>Current Weather</dt><dd>overcast clouds and 33.6 °F</dd>\\n</dl>\\n',\n",
       " '\\n<dl>\\n<dt>Hotel Name</dt><dd>Thon Hotel Kautokeino</dd>\\n<dt>City</dt><dd>Kautokeino</dd>\\n<dt>Country</dt><dd>NO</dd>\\n<dt>Current Weather</dt><dd>overcast clouds and 30.09 °F</dd>\\n</dl>\\n',\n",
       " '\\n<dl>\\n<dt>Hotel Name</dt><dd>Hotell Marena</dd>\\n<dt>City</dt><dd>Andenes</dd>\\n<dt>Country</dt><dd>NO</dd>\\n<dt>Current Weather</dt><dd>light intensity drizzle and 41.0 °F</dd>\\n</dl>\\n',\n",
       " '\\n<dl>\\n<dt>Hotel Name</dt><dd>Beluga Lake Lodge</dd>\\n<dt>City</dt><dd>Homer</dd>\\n<dt>Country</dt><dd>US</dd>\\n<dt>Current Weather</dt><dd>broken clouds and 36.0 °F</dd>\\n</dl>\\n',\n",
       " '\\n<dl>\\n<dt>Hotel Name</dt><dd>Vardø Hotel AS</dd>\\n<dt>City</dt><dd>Vardo</dd>\\n<dt>Country</dt><dd>NO</dd>\\n<dt>Current Weather</dt><dd>overcast clouds and 33.8 °F</dd>\\n</dl>\\n',\n",
       " '\\n<dl>\\n<dt>Hotel Name</dt><dd>nan</dd>\\n<dt>City</dt><dd>Ostrovnoy</dd>\\n<dt>Country</dt><dd>RU</dd>\\n<dt>Current Weather</dt><dd>overcast clouds and 35.71 °F</dd>\\n</dl>\\n',\n",
       " '\\n<dl>\\n<dt>Hotel Name</dt><dd>Kvitbrakka</dd>\\n<dt>City</dt><dd>Berlevag</dd>\\n<dt>Country</dt><dd>NO</dd>\\n<dt>Current Weather</dt><dd>clear sky and 35.6 °F</dd>\\n</dl>\\n',\n",
       " '\\n<dl>\\n<dt>Hotel Name</dt><dd>The Sternwheeler Hotel & Conference Centre</dd>\\n<dt>City</dt><dd>Whitehorse</dd>\\n<dt>Country</dt><dd>CA</dd>\\n<dt>Current Weather</dt><dd>broken clouds and 21.0 °F</dd>\\n</dl>\\n',\n",
       " '\\n<dl>\\n<dt>Hotel Name</dt><dd>nan</dd>\\n<dt>City</dt><dd>Chikola</dd>\\n<dt>Country</dt><dd>RU</dd>\\n<dt>Current Weather</dt><dd>overcast clouds and 39.2 °F</dd>\\n</dl>\\n',\n",
       " '\\n<dl>\\n<dt>Hotel Name</dt><dd>Ramada by Wyndham Quesnel</dd>\\n<dt>City</dt><dd>Quesnel</dd>\\n<dt>Country</dt><dd>CA</dd>\\n<dt>Current Weather</dt><dd>overcast clouds and 42.8 °F</dd>\\n</dl>\\n',\n",
       " '\\n<dl>\\n<dt>Hotel Name</dt><dd>nan</dd>\\n<dt>City</dt><dd>Synya</dd>\\n<dt>Country</dt><dd>RU</dd>\\n<dt>Current Weather</dt><dd>broken clouds and 25.16 °F</dd>\\n</dl>\\n',\n",
       " '\\n<dl>\\n<dt>Hotel Name</dt><dd>Kavala Villa</dd>\\n<dt>City</dt><dd>Kokkinokhoma</dd>\\n<dt>Country</dt><dd>GR</dd>\\n<dt>Current Weather</dt><dd>clear sky and 39.0 °F</dd>\\n</dl>\\n',\n",
       " '\\n<dl>\\n<dt>Hotel Name</dt><dd>nan</dd>\\n<dt>City</dt><dd>Khovu-Aksy</dd>\\n<dt>Country</dt><dd>RU</dd>\\n<dt>Current Weather</dt><dd>overcast clouds and 23.86 °F</dd>\\n</dl>\\n',\n",
       " '\\n<dl>\\n<dt>Hotel Name</dt><dd>Hotel Metelitsa</dd>\\n<dt>City</dt><dd>Ust-Ordynskiy</dd>\\n<dt>Country</dt><dd>RU</dd>\\n<dt>Current Weather</dt><dd>clear sky and 30.2 °F</dd>\\n</dl>\\n',\n",
       " '\\n<dl>\\n<dt>Hotel Name</dt><dd>ファーストホテル スタット</dd>\\n<dt>City</dt><dd>Ornskoldsvik</dd>\\n<dt>Country</dt><dd>SE</dd>\\n<dt>Current Weather</dt><dd>clear sky and 39.2 °F</dd>\\n</dl>\\n',\n",
       " '\\n<dl>\\n<dt>Hotel Name</dt><dd>Gostinitsa \"Oparino\"</dd>\\n<dt>City</dt><dd>Oparino</dd>\\n<dt>Country</dt><dd>RU</dd>\\n<dt>Current Weather</dt><dd>overcast clouds and 32.77 °F</dd>\\n</dl>\\n',\n",
       " '\\n<dl>\\n<dt>Hotel Name</dt><dd>nan</dd>\\n<dt>City</dt><dd>Sobolevo</dd>\\n<dt>Country</dt><dd>RU</dd>\\n<dt>Current Weather</dt><dd>broken clouds and 22.24 °F</dd>\\n</dl>\\n',\n",
       " '\\n<dl>\\n<dt>Hotel Name</dt><dd>Sheraton Hohhot Hotel</dd>\\n<dt>City</dt><dd>Hohhot</dd>\\n<dt>Country</dt><dd>CN</dd>\\n<dt>Current Weather</dt><dd>clear sky and 33.8 °F</dd>\\n</dl>\\n',\n",
       " '\\n<dl>\\n<dt>Hotel Name</dt><dd>Hotelli Kemijärvi</dd>\\n<dt>City</dt><dd>Kemijarvi</dd>\\n<dt>Country</dt><dd>FI</dd>\\n<dt>Current Weather</dt><dd>clear sky and 34.61 °F</dd>\\n</dl>\\n',\n",
       " '\\n<dl>\\n<dt>Hotel Name</dt><dd>Hampton Inn Cedar City</dd>\\n<dt>City</dt><dd>Cedar City</dd>\\n<dt>Country</dt><dd>US</dd>\\n<dt>Current Weather</dt><dd>scattered clouds and 44.01 °F</dd>\\n</dl>\\n',\n",
       " '\\n<dl>\\n<dt>Hotel Name</dt><dd>Shellbrook Hotel</dd>\\n<dt>City</dt><dd>Shellbrook</dd>\\n<dt>Country</dt><dd>CA</dd>\\n<dt>Current Weather</dt><dd>broken clouds and 32.0 °F</dd>\\n</dl>\\n',\n",
       " '\\n<dl>\\n<dt>Hotel Name</dt><dd>Ramkota Hotel & Conference Center</dd>\\n<dt>City</dt><dd>Bismarck</dd>\\n<dt>Country</dt><dd>US</dd>\\n<dt>Current Weather</dt><dd>overcast clouds and 39.99 °F</dd>\\n</dl>\\n',\n",
       " '\\n<dl>\\n<dt>Hotel Name</dt><dd>nan</dd>\\n<dt>City</dt><dd>Pychas</dd>\\n<dt>Country</dt><dd>RU</dd>\\n<dt>Current Weather</dt><dd>broken clouds and 28.0 °F</dd>\\n</dl>\\n',\n",
       " '\\n<dl>\\n<dt>Hotel Name</dt><dd>Airbnb rooms</dd>\\n<dt>City</dt><dd>Klaksvik</dd>\\n<dt>Country</dt><dd>FO</dd>\\n<dt>Current Weather</dt><dd>broken clouds and 39.2 °F</dd>\\n</dl>\\n',\n",
       " '\\n<dl>\\n<dt>Hotel Name</dt><dd>Gostinitsa Severyanka</dd>\\n<dt>City</dt><dd>Severnoye</dd>\\n<dt>Country</dt><dd>RU</dd>\\n<dt>Current Weather</dt><dd>overcast clouds and 28.31 °F</dd>\\n</dl>\\n',\n",
       " '\\n<dl>\\n<dt>Hotel Name</dt><dd>Otel Alabanda</dd>\\n<dt>City</dt><dd>Cine</dd>\\n<dt>Country</dt><dd>TR</dd>\\n<dt>Current Weather</dt><dd>few clouds and 39.2 °F</dd>\\n</dl>\\n',\n",
       " '\\n<dl>\\n<dt>Hotel Name</dt><dd>Airport Inn</dd>\\n<dt>City</dt><dd>Port Hardy</dd>\\n<dt>Country</dt><dd>CA</dd>\\n<dt>Current Weather</dt><dd>light rain and 44.6 °F</dd>\\n</dl>\\n',\n",
       " '\\n<dl>\\n<dt>Hotel Name</dt><dd>Fairfield Inn & Suites by Marriott Laramie</dd>\\n<dt>City</dt><dd>Laramie</dd>\\n<dt>Country</dt><dd>US</dd>\\n<dt>Current Weather</dt><dd>clear sky and 33.8 °F</dd>\\n</dl>\\n',\n",
       " '\\n<dl>\\n<dt>Hotel Name</dt><dd>Glamping & Camping</dd>\\n<dt>City</dt><dd>Vestmannaeyjar</dd>\\n<dt>Country</dt><dd>IS</dd>\\n<dt>Current Weather</dt><dd>overcast clouds and 36.73 °F</dd>\\n</dl>\\n',\n",
       " '\\n<dl>\\n<dt>Hotel Name</dt><dd>Bjarnabúð</dd>\\n<dt>City</dt><dd>Husavik</dd>\\n<dt>Country</dt><dd>IS</dd>\\n<dt>Current Weather</dt><dd>broken clouds and 35.6 °F</dd>\\n</dl>\\n',\n",
       " '\\n<dl>\\n<dt>Hotel Name</dt><dd>Hotel Kap Farvel</dd>\\n<dt>City</dt><dd>Nanortalik</dd>\\n<dt>Country</dt><dd>GL</dd>\\n<dt>Current Weather</dt><dd>few clouds and 20.82 °F</dd>\\n</dl>\\n',\n",
       " '\\n<dl>\\n<dt>Hotel Name</dt><dd>Hotel Britannia</dd>\\n<dt>City</dt><dd>Nordby</dd>\\n<dt>Country</dt><dd>DK</dd>\\n<dt>Current Weather</dt><dd>mist and 42.8 °F</dd>\\n</dl>\\n',\n",
       " '\\n<dl>\\n<dt>Hotel Name</dt><dd>Best Western Kodiak Inn And Convention Center</dd>\\n<dt>City</dt><dd>Kodiak</dd>\\n<dt>Country</dt><dd>US</dd>\\n<dt>Current Weather</dt><dd>scattered clouds and 42.8 °F</dd>\\n</dl>\\n',\n",
       " '\\n<dl>\\n<dt>Hotel Name</dt><dd>nan</dd>\\n<dt>City</dt><dd>Arbuzynka</dd>\\n<dt>Country</dt><dd>UA</dd>\\n<dt>Current Weather</dt><dd>overcast clouds and 34.23 °F</dd>\\n</dl>\\n',\n",
       " \"\\n<dl>\\n<dt>Hotel Name</dt><dd>Northern Light Inn & Max's Restaurant</dd>\\n<dt>City</dt><dd>Grindavik</dd>\\n<dt>Country</dt><dd>IS</dd>\\n<dt>Current Weather</dt><dd>sleet and 30.2 °F</dd>\\n</dl>\\n\",\n",
       " '\\n<dl>\\n<dt>Hotel Name</dt><dd>Holiday Inn Express Devils Lake</dd>\\n<dt>City</dt><dd>Devils Lake</dd>\\n<dt>Country</dt><dd>US</dd>\\n<dt>Current Weather</dt><dd>clear sky and 37.4 °F</dd>\\n</dl>\\n',\n",
       " '\\n<dl>\\n<dt>Hotel Name</dt><dd>Mehamn Arctic Hotel AS</dd>\\n<dt>City</dt><dd>Mehamn</dd>\\n<dt>Country</dt><dd>NO</dd>\\n<dt>Current Weather</dt><dd>clear sky and 39.2 °F</dd>\\n</dl>\\n',\n",
       " '\\n<dl>\\n<dt>Hotel Name</dt><dd>The Ritz-Carlton, Moscow</dd>\\n<dt>City</dt><dd>Moscow</dd>\\n<dt>Country</dt><dd>RU</dd>\\n<dt>Current Weather</dt><dd>clear sky and 33.8 °F</dd>\\n</dl>\\n',\n",
       " '\\n<dl>\\n<dt>Hotel Name</dt><dd>Holiday Inn Express & Suites Prince Albert</dd>\\n<dt>City</dt><dd>Prince Albert</dd>\\n<dt>Country</dt><dd>CA</dd>\\n<dt>Current Weather</dt><dd>broken clouds and 32.0 °F</dd>\\n</dl>\\n',\n",
       " '\\n<dl>\\n<dt>Hotel Name</dt><dd>Casa Mika Ciobanus</dd>\\n<dt>City</dt><dd>Asau</dd>\\n<dt>Country</dt><dd>RO</dd>\\n<dt>Current Weather</dt><dd>light snow and 33.01 °F</dd>\\n</dl>\\n',\n",
       " '\\n<dl>\\n<dt>Hotel Name</dt><dd>Super 8 Hotel Yantai Zhaoyuan Bus Terminal Branch</dd>\\n<dt>City</dt><dd>Zhaoyuan</dd>\\n<dt>Country</dt><dd>CN</dd>\\n<dt>Current Weather</dt><dd>clear sky and 44.01 °F</dd>\\n</dl>\\n',\n",
       " '\\n<dl>\\n<dt>Hotel Name</dt><dd>Turizem Loka - sobe in apartmaji</dd>\\n<dt>City</dt><dd>Skofja Loka</dd>\\n<dt>Country</dt><dd>SI</dd>\\n<dt>Current Weather</dt><dd>few clouds and 43.0 °F</dd>\\n</dl>\\n',\n",
       " '\\n<dl>\\n<dt>Hotel Name</dt><dd>Moosonee Lilypad</dd>\\n<dt>City</dt><dd>Moose Factory</dd>\\n<dt>Country</dt><dd>CA</dd>\\n<dt>Current Weather</dt><dd>light snow and 23.0 °F</dd>\\n</dl>\\n',\n",
       " '\\n<dl>\\n<dt>Hotel Name</dt><dd>Coevorden Castle</dd>\\n<dt>City</dt><dd>Dalen</dd>\\n<dt>Country</dt><dd>NL</dd>\\n<dt>Current Weather</dt><dd>overcast clouds and 44.01 °F</dd>\\n</dl>\\n',\n",
       " '\\n<dl>\\n<dt>Hotel Name</dt><dd>Hostel v Ishime</dd>\\n<dt>City</dt><dd>Ishim</dd>\\n<dt>Country</dt><dd>RU</dd>\\n<dt>Current Weather</dt><dd>overcast clouds and 29.34 °F</dd>\\n</dl>\\n',\n",
       " '\\n<dl>\\n<dt>Hotel Name</dt><dd>Hotel Nemuro Kaiyoutei</dd>\\n<dt>City</dt><dd>Nemuro</dd>\\n<dt>Country</dt><dd>JP</dd>\\n<dt>Current Weather</dt><dd>overcast clouds and 35.83 °F</dd>\\n</dl>\\n',\n",
       " '\\n<dl>\\n<dt>Hotel Name</dt><dd>nan</dd>\\n<dt>City</dt><dd>Saint-Augustin</dd>\\n<dt>Country</dt><dd>CA</dd>\\n<dt>Current Weather</dt><dd>overcast clouds and 31.75 °F</dd>\\n</dl>\\n',\n",
       " '\\n<dl>\\n<dt>Hotel Name</dt><dd>Westmark Sitka</dd>\\n<dt>City</dt><dd>Sitka</dd>\\n<dt>Country</dt><dd>US</dd>\\n<dt>Current Weather</dt><dd>light snow and 37.4 °F</dd>\\n</dl>\\n',\n",
       " '\\n<dl>\\n<dt>Hotel Name</dt><dd>Hua Ling Grand Hotel Urumqi</dd>\\n<dt>City</dt><dd>Urumqi</dd>\\n<dt>Country</dt><dd>CN</dd>\\n<dt>Current Weather</dt><dd>clear sky and 37.4 °F</dd>\\n</dl>\\n',\n",
       " '\\n<dl>\\n<dt>Hotel Name</dt><dd>Tourist House - Sablino</dd>\\n<dt>City</dt><dd>Nikolskoye</dd>\\n<dt>Country</dt><dd>RU</dd>\\n<dt>Current Weather</dt><dd>overcast clouds and 37.99 °F</dd>\\n</dl>\\n',\n",
       " '\\n<dl>\\n<dt>Hotel Name</dt><dd>Corner Hotel</dd>\\n<dt>City</dt><dd>Bronnoysund</dd>\\n<dt>Country</dt><dd>NO</dd>\\n<dt>Current Weather</dt><dd>light rain and 39.2 °F</dd>\\n</dl>\\n',\n",
       " '\\n<dl>\\n<dt>Hotel Name</dt><dd>Uyut, Gostinitsa</dd>\\n<dt>City</dt><dd>Kirovskiy</dd>\\n<dt>Country</dt><dd>RU</dd>\\n<dt>Current Weather</dt><dd>scattered clouds and 24.93 °F</dd>\\n</dl>\\n',\n",
       " '\\n<dl>\\n<dt>Hotel Name</dt><dd>Southern Port Hotel</dd>\\n<dt>City</dt><dd>Harbour Breton</dd>\\n<dt>Country</dt><dd>CA</dd>\\n<dt>Current Weather</dt><dd>few clouds and 38.84 °F</dd>\\n</dl>\\n',\n",
       " '\\n<dl>\\n<dt>Hotel Name</dt><dd>Solnechnyy</dd>\\n<dt>City</dt><dd>Medvezhyegorsk</dd>\\n<dt>Country</dt><dd>RU</dd>\\n<dt>Current Weather</dt><dd>overcast clouds and 36.99 °F</dd>\\n</dl>\\n',\n",
       " '\\n<dl>\\n<dt>Hotel Name</dt><dd>Hotel Narsaq</dd>\\n<dt>City</dt><dd>Narsaq</dd>\\n<dt>Country</dt><dd>GL</dd>\\n<dt>Current Weather</dt><dd>broken clouds and 23.0 °F</dd>\\n</dl>\\n',\n",
       " '\\n<dl>\\n<dt>Hotel Name</dt><dd>Khata Chaplynka</dd>\\n<dt>City</dt><dd>Chaplynka</dd>\\n<dt>Country</dt><dd>UA</dd>\\n<dt>Current Weather</dt><dd>overcast clouds and 34.48 °F</dd>\\n</dl>\\n',\n",
       " '\\n<dl>\\n<dt>Hotel Name</dt><dd>Durrant House Hotel</dd>\\n<dt>City</dt><dd>Northam</dd>\\n<dt>Country</dt><dd>GB</dd>\\n<dt>Current Weather</dt><dd>overcast clouds and 45.0 °F</dd>\\n</dl>\\n',\n",
       " '\\n<dl>\\n<dt>Hotel Name</dt><dd>Kalinin</dd>\\n<dt>City</dt><dd>Tinskoy</dd>\\n<dt>Country</dt><dd>RU</dd>\\n<dt>Current Weather</dt><dd>overcast clouds and 31.01 °F</dd>\\n</dl>\\n',\n",
       " '\\n<dl>\\n<dt>Hotel Name</dt><dd>Holiday Inn Express Roseville-St. Paul</dd>\\n<dt>City</dt><dd>Saint Anthony</dd>\\n<dt>Country</dt><dd>US</dd>\\n<dt>Current Weather</dt><dd>heavy intensity rain and 41.0 °F</dd>\\n</dl>\\n',\n",
       " '\\n<dl>\\n<dt>Hotel Name</dt><dd>Hotel on Sadovaya 2</dd>\\n<dt>City</dt><dd>Kalevala</dd>\\n<dt>Country</dt><dd>RU</dd>\\n<dt>Current Weather</dt><dd>overcast clouds and 36.16 °F</dd>\\n</dl>\\n',\n",
       " '\\n<dl>\\n<dt>Hotel Name</dt><dd>Villa Aleksi</dd>\\n<dt>City</dt><dd>Hollola</dd>\\n<dt>Country</dt><dd>FI</dd>\\n<dt>Current Weather</dt><dd>broken clouds and 35.01 °F</dd>\\n</dl>\\n',\n",
       " '\\n<dl>\\n<dt>Hotel Name</dt><dd>nan</dd>\\n<dt>City</dt><dd>Ust-Kulom</dd>\\n<dt>Country</dt><dd>RU</dd>\\n<dt>Current Weather</dt><dd>overcast clouds and 31.28 °F</dd>\\n</dl>\\n',\n",
       " '\\n<dl>\\n<dt>Hotel Name</dt><dd>Palatochnyy Gorodok</dd>\\n<dt>City</dt><dd>Tubinskiy</dd>\\n<dt>Country</dt><dd>RU</dd>\\n<dt>Current Weather</dt><dd>broken clouds and 21.2 °F</dd>\\n</dl>\\n',\n",
       " '\\n<dl>\\n<dt>Hotel Name</dt><dd>nan</dd>\\n<dt>City</dt><dd>Krapivinskiy</dd>\\n<dt>Country</dt><dd>RU</dd>\\n<dt>Current Weather</dt><dd>snow and 23.0 °F</dd>\\n</dl>\\n',\n",
       " '\\n<dl>\\n<dt>Hotel Name</dt><dd>The Blue Sky Hotel and Tower</dd>\\n<dt>City</dt><dd>Ulaanbaatar</dd>\\n<dt>Country</dt><dd>MN</dd>\\n<dt>Current Weather</dt><dd>scattered clouds and 26.6 °F</dd>\\n</dl>\\n',\n",
       " \"\\n<dl>\\n<dt>Hotel Name</dt><dd>Le Q'Artier</dd>\\n<dt>City</dt><dd>Port-Cartier</dd>\\n<dt>Country</dt><dd>CA</dd>\\n<dt>Current Weather</dt><dd>broken clouds and 41.0 °F</dd>\\n</dl>\\n\",\n",
       " '\\n<dl>\\n<dt>Hotel Name</dt><dd>Hotelli Sandels Oy</dd>\\n<dt>City</dt><dd>Siilinjarvi</dd>\\n<dt>Country</dt><dd>FI</dd>\\n<dt>Current Weather</dt><dd>clear sky and 37.4 °F</dd>\\n</dl>\\n',\n",
       " '\\n<dl>\\n<dt>Hotel Name</dt><dd>Friendship Hotel</dd>\\n<dt>City</dt><dd>Port Arthur</dd>\\n<dt>Country</dt><dd>CN</dd>\\n<dt>Current Weather</dt><dd>clear sky and 35.6 °F</dd>\\n</dl>\\n',\n",
       " '\\n<dl>\\n<dt>Hotel Name</dt><dd>Scandic CH</dd>\\n<dt>City</dt><dd>Gavle</dd>\\n<dt>Country</dt><dd>SE</dd>\\n<dt>Current Weather</dt><dd>overcast clouds and 44.01 °F</dd>\\n</dl>\\n',\n",
       " '\\n<dl>\\n<dt>Hotel Name</dt><dd>Энергетик</dd>\\n<dt>City</dt><dd>Novyy Svit</dd>\\n<dt>Country</dt><dd>UA</dd>\\n<dt>Current Weather</dt><dd>snow and 34.39 °F</dd>\\n</dl>\\n',\n",
       " '\\n<dl>\\n<dt>Hotel Name</dt><dd>nan</dd>\\n<dt>City</dt><dd>Teya</dd>\\n<dt>Country</dt><dd>RU</dd>\\n<dt>Current Weather</dt><dd>overcast clouds and 22.42 °F</dd>\\n</dl>\\n',\n",
       " '\\n<dl>\\n<dt>Hotel Name</dt><dd>Domashnyaya Gostinitsa</dd>\\n<dt>City</dt><dd>Turtas</dd>\\n<dt>Country</dt><dd>RU</dd>\\n<dt>Current Weather</dt><dd>overcast clouds and 26.38 °F</dd>\\n</dl>\\n',\n",
       " '\\n<dl>\\n<dt>Hotel Name</dt><dd>Ocean View Bed & Breakfast</dd>\\n<dt>City</dt><dd>Lewisporte</dd>\\n<dt>Country</dt><dd>CA</dd>\\n<dt>Current Weather</dt><dd>broken clouds and 42.8 °F</dd>\\n</dl>\\n',\n",
       " '\\n<dl>\\n<dt>Hotel Name</dt><dd>Konak Otel</dd>\\n<dt>City</dt><dd>Mut</dd>\\n<dt>Country</dt><dd>TR</dd>\\n<dt>Current Weather</dt><dd>few clouds and 43.84 °F</dd>\\n</dl>\\n',\n",
       " '\\n<dl>\\n<dt>Hotel Name</dt><dd>Dredge 7 Inn</dd>\\n<dt>City</dt><dd>Nome</dd>\\n<dt>Country</dt><dd>US</dd>\\n<dt>Current Weather</dt><dd>overcast clouds and 28.99 °F</dd>\\n</dl>\\n',\n",
       " '\\n<dl>\\n<dt>Hotel Name</dt><dd>Crest Hotel</dd>\\n<dt>City</dt><dd>Prince Rupert</dd>\\n<dt>Country</dt><dd>CA</dd>\\n<dt>Current Weather</dt><dd>light rain and 42.8 °F</dd>\\n</dl>\\n',\n",
       " '\\n<dl>\\n<dt>Hotel Name</dt><dd>nan</dd>\\n<dt>City</dt><dd>Becicherecu Mic</dd>\\n<dt>Country</dt><dd>RO</dd>\\n<dt>Current Weather</dt><dd>clear sky and 39.99 °F</dd>\\n</dl>\\n',\n",
       " '\\n<dl>\\n<dt>Hotel Name</dt><dd>Super 8 Guymon</dd>\\n<dt>City</dt><dd>Guymon</dd>\\n<dt>Country</dt><dd>US</dd>\\n<dt>Current Weather</dt><dd>mist and 35.6 °F</dd>\\n</dl>\\n',\n",
       " '\\n<dl>\\n<dt>Hotel Name</dt><dd>Park Alandia Hotel</dd>\\n<dt>City</dt><dd>Maarianhamina</dd>\\n<dt>Country</dt><dd>AX</dd>\\n<dt>Current Weather</dt><dd>clear sky and 42.8 °F</dd>\\n</dl>\\n',\n",
       " '\\n<dl>\\n<dt>Hotel Name</dt><dd>Aspen Extended Stay Suites</dd>\\n<dt>City</dt><dd>Kenai</dd>\\n<dt>Country</dt><dd>US</dd>\\n<dt>Current Weather</dt><dd>overcast clouds and 33.8 °F</dd>\\n</dl>\\n',\n",
       " '\\n<dl>\\n<dt>Hotel Name</dt><dd>Radisson Blu Polar Hotel, Spitsbergen</dd>\\n<dt>City</dt><dd>Longyearbyen</dd>\\n<dt>Country</dt><dd>SJ</dd>\\n<dt>Current Weather</dt><dd>broken clouds and 26.6 °F</dd>\\n</dl>\\n',\n",
       " '\\n<dl>\\n<dt>Hotel Name</dt><dd>Hotel Ladakh Greens</dd>\\n<dt>City</dt><dd>Leh</dd>\\n<dt>Country</dt><dd>IN</dd>\\n<dt>Current Weather</dt><dd>broken clouds and 23.18 °F</dd>\\n</dl>\\n',\n",
       " '\\n<dl>\\n<dt>Hotel Name</dt><dd>PTDC Motel Chitral</dd>\\n<dt>City</dt><dd>Chitral</dd>\\n<dt>Country</dt><dd>PK</dd>\\n<dt>Current Weather</dt><dd>few clouds and 40.86 °F</dd>\\n</dl>\\n',\n",
       " \"\\n<dl>\\n<dt>Hotel Name</dt><dd>Gostinitsa Ust'-Uda Shans</dd>\\n<dt>City</dt><dd>Ust-Uda</dd>\\n<dt>Country</dt><dd>RU</dd>\\n<dt>Current Weather</dt><dd>overcast clouds and 21.24 °F</dd>\\n</dl>\\n\",\n",
       " '\\n<dl>\\n<dt>Hotel Name</dt><dd>Lada, Gostinitsa</dd>\\n<dt>City</dt><dd>Kozmodemyansk</dd>\\n<dt>Country</dt><dd>RU</dd>\\n<dt>Current Weather</dt><dd>clear sky and 28.4 °F</dd>\\n</dl>\\n',\n",
       " '\\n<dl>\\n<dt>Hotel Name</dt><dd>Pazo de Verdes</dd>\\n<dt>City</dt><dd>Bereda</dd>\\n<dt>Country</dt><dd>ES</dd>\\n<dt>Current Weather</dt><dd>overcast clouds and 45.0 °F</dd>\\n</dl>\\n',\n",
       " '\\n<dl>\\n<dt>Hotel Name</dt><dd>Gostinitsa Gudok</dd>\\n<dt>City</dt><dd>Yershov</dd>\\n<dt>Country</dt><dd>RU</dd>\\n<dt>Current Weather</dt><dd>overcast clouds and 31.64 °F</dd>\\n</dl>\\n',\n",
       " '\\n<dl>\\n<dt>Hotel Name</dt><dd>Kulunda 24</dd>\\n<dt>City</dt><dd>Kulunda</dd>\\n<dt>Country</dt><dd>RU</dd>\\n<dt>Current Weather</dt><dd>overcast clouds and 26.01 °F</dd>\\n</dl>\\n',\n",
       " '\\n<dl>\\n<dt>Hotel Name</dt><dd>Scandic Plaza Borås</dd>\\n<dt>City</dt><dd>Boras</dd>\\n<dt>Country</dt><dd>SE</dd>\\n<dt>Current Weather</dt><dd>mist and 44.01 °F</dd>\\n</dl>\\n',\n",
       " '\\n<dl>\\n<dt>Hotel Name</dt><dd>Arctic View Glamping & Restaurant</dd>\\n<dt>City</dt><dd>Havoysund</dd>\\n<dt>Country</dt><dd>NO</dd>\\n<dt>Current Weather</dt><dd>light rain and 39.2 °F</dd>\\n</dl>\\n',\n",
       " '\\n<dl>\\n<dt>Hotel Name</dt><dd>Unitel Булган салбар</dd>\\n<dt>City</dt><dd>Bulgan</dd>\\n<dt>Country</dt><dd>MN</dd>\\n<dt>Current Weather</dt><dd>overcast clouds and 36.19 °F</dd>\\n</dl>\\n',\n",
       " '\\n<dl>\\n<dt>Hotel Name</dt><dd>Sosnoviy Bor</dd>\\n<dt>City</dt><dd>Bogorodskoye</dd>\\n<dt>Country</dt><dd>RU</dd>\\n<dt>Current Weather</dt><dd>overcast clouds and 31.19 °F</dd>\\n</dl>\\n',\n",
       " '\\n<dl>\\n<dt>Hotel Name</dt><dd>AmericInn by Wyndham Fergus Falls Conference Center</dd>\\n<dt>City</dt><dd>Fergus Falls</dd>\\n<dt>Country</dt><dd>US</dd>\\n<dt>Current Weather</dt><dd>scattered clouds and 44.01 °F</dd>\\n</dl>\\n',\n",
       " '\\n<dl>\\n<dt>Hotel Name</dt><dd>База отдыха \"Солнечная\"</dd>\\n<dt>City</dt><dd>Zatoka</dd>\\n<dt>Country</dt><dd>UA</dd>\\n<dt>Current Weather</dt><dd>broken clouds and 35.6 °F</dd>\\n</dl>\\n',\n",
       " '\\n<dl>\\n<dt>Hotel Name</dt><dd>Gostinitsa Rosmorport.</dd>\\n<dt>City</dt><dd>Olga</dd>\\n<dt>Country</dt><dd>RU</dd>\\n<dt>Current Weather</dt><dd>overcast clouds and 31.77 °F</dd>\\n</dl>\\n',\n",
       " '\\n<dl>\\n<dt>Hotel Name</dt><dd>Americas Best Value Port Polson Inn</dd>\\n<dt>City</dt><dd>Polson</dd>\\n<dt>Country</dt><dd>US</dd>\\n<dt>Current Weather</dt><dd>overcast clouds and 42.01 °F</dd>\\n</dl>\\n',\n",
       " '\\n<dl>\\n<dt>Hotel Name</dt><dd>Hotell Frøya</dd>\\n<dt>City</dt><dd>Sistranda</dd>\\n<dt>Country</dt><dd>NO</dd>\\n<dt>Current Weather</dt><dd>few clouds and 41.0 °F</dd>\\n</dl>\\n',\n",
       " '\\n<dl>\\n<dt>Hotel Name</dt><dd>Skreda Rorbusuiter</dd>\\n<dt>City</dt><dd>Gravdal</dd>\\n<dt>Country</dt><dd>NO</dd>\\n<dt>Current Weather</dt><dd>sleet and 41.0 °F</dd>\\n</dl>\\n',\n",
       " '\\n<dl>\\n<dt>Hotel Name</dt><dd>Hotel Den Helder</dd>\\n<dt>City</dt><dd>Den Helder</dd>\\n<dt>Country</dt><dd>NL</dd>\\n<dt>Current Weather</dt><dd>mist and 45.0 °F</dd>\\n</dl>\\n',\n",
       " '\\n<dl>\\n<dt>Hotel Name</dt><dd>nan</dd>\\n<dt>City</dt><dd>Monastyrshchina</dd>\\n<dt>Country</dt><dd>RU</dd>\\n<dt>Current Weather</dt><dd>scattered clouds and 22.01 °F</dd>\\n</dl>\\n',\n",
       " '\\n<dl>\\n<dt>Hotel Name</dt><dd>Radisson Blu Hotel, Tromsø</dd>\\n<dt>City</dt><dd>Tromso</dd>\\n<dt>Country</dt><dd>NO</dd>\\n<dt>Current Weather</dt><dd>light rain and 35.6 °F</dd>\\n</dl>\\n',\n",
       " '\\n<dl>\\n<dt>Hotel Name</dt><dd>Adilcevaz Ogretmen Evi</dd>\\n<dt>City</dt><dd>Adilcevaz</dd>\\n<dt>Country</dt><dd>TR</dd>\\n<dt>Current Weather</dt><dd>broken clouds and 39.2 °F</dd>\\n</dl>\\n',\n",
       " '\\n<dl>\\n<dt>Hotel Name</dt><dd>nan</dd>\\n<dt>City</dt><dd>Beisfjord</dd>\\n<dt>Country</dt><dd>NO</dd>\\n<dt>Current Weather</dt><dd>light rain and 37.4 °F</dd>\\n</dl>\\n',\n",
       " '\\n<dl>\\n<dt>Hotel Name</dt><dd>Victoria Inn Hotel and Convention Centre</dd>\\n<dt>City</dt><dd>Thunder Bay</dd>\\n<dt>Country</dt><dd>CA</dd>\\n<dt>Current Weather</dt><dd>snow and 28.4 °F</dd>\\n</dl>\\n',\n",
       " '\\n<dl>\\n<dt>Hotel Name</dt><dd>Canway Inn & Suites</dd>\\n<dt>City</dt><dd>Dauphin</dd>\\n<dt>Country</dt><dd>CA</dd>\\n<dt>Current Weather</dt><dd>clear sky and 21.2 °F</dd>\\n</dl>\\n',\n",
       " '\\n<dl>\\n<dt>Hotel Name</dt><dd>Gostinitsa \"Diyar\"</dd>\\n<dt>City</dt><dd>Ushtobe</dd>\\n<dt>Country</dt><dd>KZ</dd>\\n<dt>Current Weather</dt><dd>overcast clouds and 39.0 °F</dd>\\n</dl>\\n',\n",
       " '\\n<dl>\\n<dt>Hotel Name</dt><dd>Hilton Shop</dd>\\n<dt>City</dt><dd>Mackenzie</dd>\\n<dt>Country</dt><dd>CA</dd>\\n<dt>Current Weather</dt><dd>overcast clouds and 30.2 °F</dd>\\n</dl>\\n',\n",
       " '\\n<dl>\\n<dt>Hotel Name</dt><dd>nan</dd>\\n<dt>City</dt><dd>Novikovo</dd>\\n<dt>Country</dt><dd>RU</dd>\\n<dt>Current Weather</dt><dd>overcast clouds and 29.95 °F</dd>\\n</dl>\\n',\n",
       " '\\n<dl>\\n<dt>Hotel Name</dt><dd>Santa Claran Hotel</dd>\\n<dt>City</dt><dd>Espanola</dd>\\n<dt>Country</dt><dd>US</dd>\\n<dt>Current Weather</dt><dd>overcast clouds and 41.0 °F</dd>\\n</dl>\\n',\n",
       " '\\n<dl>\\n<dt>Hotel Name</dt><dd>Okhotnich\\'ye Khozyaystvo \"Bober\"</dd>\\n<dt>City</dt><dd>Sterlibashevo</dd>\\n<dt>Country</dt><dd>RU</dd>\\n<dt>Current Weather</dt><dd>overcast clouds and 30.2 °F</dd>\\n</dl>\\n',\n",
       " '\\n<dl>\\n<dt>Hotel Name</dt><dd>Snows Cove Lodge</dd>\\n<dt>City</dt><dd>Ketchikan</dd>\\n<dt>Country</dt><dd>US</dd>\\n<dt>Current Weather</dt><dd>light rain and 42.8 °F</dd>\\n</dl>\\n',\n",
       " '\\n<dl>\\n<dt>Hotel Name</dt><dd>Tropical Inn</dd>\\n<dt>City</dt><dd>North Battleford</dd>\\n<dt>Country</dt><dd>CA</dd>\\n<dt>Current Weather</dt><dd>clear sky and 35.6 °F</dd>\\n</dl>\\n',\n",
       " '\\n<dl>\\n<dt>Hotel Name</dt><dd>Gasthof Hotel Traube</dd>\\n<dt>City</dt><dd>Oberndorf</dd>\\n<dt>Country</dt><dd>DE</dd>\\n<dt>Current Weather</dt><dd>scattered clouds and 42.01 °F</dd>\\n</dl>\\n',\n",
       " '\\n<dl>\\n<dt>Hotel Name</dt><dd>nan</dd>\\n<dt>City</dt><dd>Mamlyutka</dd>\\n<dt>Country</dt><dd>KZ</dd>\\n<dt>Current Weather</dt><dd>overcast clouds and 20.3 °F</dd>\\n</dl>\\n',\n",
       " '\\n<dl>\\n<dt>Hotel Name</dt><dd>Motelʹ Kurortnyy</dd>\\n<dt>City</dt><dd>Starychi</dd>\\n<dt>Country</dt><dd>UA</dd>\\n<dt>Current Weather</dt><dd>clear sky and 26.6 °F</dd>\\n</dl>\\n',\n",
       " '\\n<dl>\\n<dt>Hotel Name</dt><dd>Toyoko Inn Kushiro Jujigai</dd>\\n<dt>City</dt><dd>Kushiro</dd>\\n<dt>Country</dt><dd>JP</dd>\\n<dt>Current Weather</dt><dd>overcast clouds and 35.15 °F</dd>\\n</dl>\\n',\n",
       " '\\n<dl>\\n<dt>Hotel Name</dt><dd>Northern Motor Inn</dd>\\n<dt>City</dt><dd>Terrace</dd>\\n<dt>Country</dt><dd>CA</dd>\\n<dt>Current Weather</dt><dd>light snow and 35.6 °F</dd>\\n</dl>\\n',\n",
       " '\\n<dl>\\n<dt>Hotel Name</dt><dd>Aegli Hotel</dd>\\n<dt>City</dt><dd>Grevena</dd>\\n<dt>Country</dt><dd>GR</dd>\\n<dt>Current Weather</dt><dd>light snow and 32.0 °F</dd>\\n</dl>\\n',\n",
       " '\\n<dl>\\n<dt>Hotel Name</dt><dd>Хостел \"Пилигрим\"</dd>\\n<dt>City</dt><dd>Sovetskaya Gavan</dd>\\n<dt>Country</dt><dd>RU</dd>\\n<dt>Current Weather</dt><dd>clear sky and 20.97 °F</dd>\\n</dl>\\n',\n",
       " '\\n<dl>\\n<dt>Hotel Name</dt><dd>Crowne Plaza Ordos</dd>\\n<dt>City</dt><dd>Dongsheng</dd>\\n<dt>Country</dt><dd>CN</dd>\\n<dt>Current Weather</dt><dd>overcast clouds and 42.12 °F</dd>\\n</dl>\\n',\n",
       " '\\n<dl>\\n<dt>Hotel Name</dt><dd>Sever Nadvoitsy</dd>\\n<dt>City</dt><dd>Nadvoitsy</dd>\\n<dt>Country</dt><dd>RU</dd>\\n<dt>Current Weather</dt><dd>overcast clouds and 38.07 °F</dd>\\n</dl>\\n',\n",
       " '\\n<dl>\\n<dt>Hotel Name</dt><dd>Boen Gård</dd>\\n<dt>City</dt><dd>Tveit</dd>\\n<dt>Country</dt><dd>NO</dd>\\n<dt>Current Weather</dt><dd>scattered clouds and 43.0 °F</dd>\\n</dl>\\n',\n",
       " '\\n<dl>\\n<dt>Hotel Name</dt><dd>Motel 6 Swift Current, SK</dd>\\n<dt>City</dt><dd>Swift Current</dd>\\n<dt>Country</dt><dd>CA</dd>\\n<dt>Current Weather</dt><dd>clear sky and 44.6 °F</dd>\\n</dl>\\n',\n",
       " '\\n<dl>\\n<dt>Hotel Name</dt><dd>nan</dd>\\n<dt>City</dt><dd>Chernolesskoye</dd>\\n<dt>Country</dt><dd>RU</dd>\\n<dt>Current Weather</dt><dd>overcast clouds and 37.18 °F</dd>\\n</dl>\\n',\n",
       " '\\n<dl>\\n<dt>Hotel Name</dt><dd>nan</dd>\\n<dt>City</dt><dd>Onufriyivka</dd>\\n<dt>Country</dt><dd>UA</dd>\\n<dt>Current Weather</dt><dd>light snow and 31.95 °F</dd>\\n</dl>\\n']"
      ]
     },
     "execution_count": 20,
     "metadata": {},
     "output_type": "execute_result"
    }
   ],
   "source": [
    "hotel_info"
   ]
  },
  {
   "cell_type": "code",
   "execution_count": 24,
   "metadata": {},
   "outputs": [
    {
     "data": {
      "application/vnd.jupyter.widget-view+json": {
       "model_id": "7e70b70434a941c29c1ce78fc8910a20",
       "version_major": 2,
       "version_minor": 0
      },
      "text/plain": [
       "Figure(layout=FigureLayout(height='420px'))"
      ]
     },
     "metadata": {},
     "output_type": "display_data"
    }
   ],
   "source": [
    "# 4a. Add a marker layer for each city to the map.\n",
    "fig = gmaps.figure(center=(30.0, 31.0), zoom_level=1.2)\n",
    "marker_layer = gmaps.marker_layer(locations, info_box_content=hotel_info)\n",
    "fig.add_layer(marker_layer)\n",
    "\n",
    "# 4b. Display the figure\n",
    "fig"
   ]
  },
  {
   "cell_type": "code",
   "execution_count": 26,
   "metadata": {},
   "outputs": [],
   "source": [
    "# From the map above pick 4 cities and create a vacation itinerary route to travel between the four cities. \n",
    "# 5. Create DataFrames for each city by filtering the 'vacation_df' using the loc method. \n",
    "# Hint: The starting and ending city should be the same city.\n",
    "vacation_start = vacation_df.loc[(vacation_df[\"City\"] == \"Vestmannaeyjar\") & (vacation_df[\"Hotel Name\"] == \"Glamping & Camping\")]\n",
    "vacation_end = vacation_df.loc[(vacation_df[\"City\"] == \"Vestmannaeyjar\") & (vacation_df[\"Hotel Name\"] == \"Glamping & Camping\")]\n",
    "vacation_stop1 = vacation_df.loc[(vacation_df[\"City\"] == \"Grindavik\") & (vacation_df[\"Hotel Name\"] == \"Northern Light Inn & Max's Restaurant\")]\n",
    "vacation_stop2 = vacation_df.loc[(vacation_df[\"City\"] == \"Olafsvik\") & (vacation_df[\"Hotel Name\"] == \"Hotel Olafsvik\")]\n",
    "vacation_stop3 = vacation_df.loc[(vacation_df[\"City\"] == \"Husavik\") & (vacation_df[\"Hotel Name\"] == \"Bjarnabúð\")] "
   ]
  },
  {
   "cell_type": "code",
   "execution_count": 33,
   "metadata": {},
   "outputs": [
    {
     "data": {
      "text/html": [
       "<div>\n",
       "<style scoped>\n",
       "    .dataframe tbody tr th:only-of-type {\n",
       "        vertical-align: middle;\n",
       "    }\n",
       "\n",
       "    .dataframe tbody tr th {\n",
       "        vertical-align: top;\n",
       "    }\n",
       "\n",
       "    .dataframe thead th {\n",
       "        text-align: right;\n",
       "    }\n",
       "</style>\n",
       "<table border=\"1\" class=\"dataframe\">\n",
       "  <thead>\n",
       "    <tr style=\"text-align: right;\">\n",
       "      <th></th>\n",
       "      <th>City_ID</th>\n",
       "      <th>City</th>\n",
       "      <th>Country</th>\n",
       "      <th>Max Temp</th>\n",
       "      <th>Weather Description</th>\n",
       "      <th>Lat</th>\n",
       "      <th>Lng</th>\n",
       "      <th>Hotel Name</th>\n",
       "    </tr>\n",
       "  </thead>\n",
       "  <tbody>\n",
       "    <tr>\n",
       "      <th>38</th>\n",
       "      <td>250</td>\n",
       "      <td>Vestmannaeyjar</td>\n",
       "      <td>IS</td>\n",
       "      <td>36.73</td>\n",
       "      <td>overcast clouds</td>\n",
       "      <td>63.4427</td>\n",
       "      <td>-20.2734</td>\n",
       "      <td>Glamping &amp; Camping</td>\n",
       "    </tr>\n",
       "  </tbody>\n",
       "</table>\n",
       "</div>"
      ],
      "text/plain": [
       "    City_ID            City Country  Max Temp Weather Description      Lat  \\\n",
       "38      250  Vestmannaeyjar      IS     36.73     overcast clouds  63.4427   \n",
       "\n",
       "        Lng          Hotel Name  \n",
       "38 -20.2734  Glamping & Camping  "
      ]
     },
     "execution_count": 33,
     "metadata": {},
     "output_type": "execute_result"
    }
   ],
   "source": [
    "vacation_start"
   ]
  },
  {
   "cell_type": "code",
   "execution_count": 34,
   "metadata": {},
   "outputs": [
    {
     "data": {
      "text/html": [
       "<div>\n",
       "<style scoped>\n",
       "    .dataframe tbody tr th:only-of-type {\n",
       "        vertical-align: middle;\n",
       "    }\n",
       "\n",
       "    .dataframe tbody tr th {\n",
       "        vertical-align: top;\n",
       "    }\n",
       "\n",
       "    .dataframe thead th {\n",
       "        text-align: right;\n",
       "    }\n",
       "</style>\n",
       "<table border=\"1\" class=\"dataframe\">\n",
       "  <thead>\n",
       "    <tr style=\"text-align: right;\">\n",
       "      <th></th>\n",
       "      <th>City_ID</th>\n",
       "      <th>City</th>\n",
       "      <th>Country</th>\n",
       "      <th>Max Temp</th>\n",
       "      <th>Weather Description</th>\n",
       "      <th>Lat</th>\n",
       "      <th>Lng</th>\n",
       "      <th>Hotel Name</th>\n",
       "    </tr>\n",
       "  </thead>\n",
       "  <tbody>\n",
       "    <tr>\n",
       "      <th>38</th>\n",
       "      <td>250</td>\n",
       "      <td>Vestmannaeyjar</td>\n",
       "      <td>IS</td>\n",
       "      <td>36.73</td>\n",
       "      <td>overcast clouds</td>\n",
       "      <td>63.4427</td>\n",
       "      <td>-20.2734</td>\n",
       "      <td>Glamping &amp; Camping</td>\n",
       "    </tr>\n",
       "  </tbody>\n",
       "</table>\n",
       "</div>"
      ],
      "text/plain": [
       "    City_ID            City Country  Max Temp Weather Description      Lat  \\\n",
       "38      250  Vestmannaeyjar      IS     36.73     overcast clouds  63.4427   \n",
       "\n",
       "        Lng          Hotel Name  \n",
       "38 -20.2734  Glamping & Camping  "
      ]
     },
     "execution_count": 34,
     "metadata": {},
     "output_type": "execute_result"
    }
   ],
   "source": [
    "vacation_end"
   ]
  },
  {
   "cell_type": "code",
   "execution_count": 35,
   "metadata": {},
   "outputs": [
    {
     "data": {
      "text/html": [
       "<div>\n",
       "<style scoped>\n",
       "    .dataframe tbody tr th:only-of-type {\n",
       "        vertical-align: middle;\n",
       "    }\n",
       "\n",
       "    .dataframe tbody tr th {\n",
       "        vertical-align: top;\n",
       "    }\n",
       "\n",
       "    .dataframe thead th {\n",
       "        text-align: right;\n",
       "    }\n",
       "</style>\n",
       "<table border=\"1\" class=\"dataframe\">\n",
       "  <thead>\n",
       "    <tr style=\"text-align: right;\">\n",
       "      <th></th>\n",
       "      <th>City_ID</th>\n",
       "      <th>City</th>\n",
       "      <th>Country</th>\n",
       "      <th>Max Temp</th>\n",
       "      <th>Weather Description</th>\n",
       "      <th>Lat</th>\n",
       "      <th>Lng</th>\n",
       "      <th>Hotel Name</th>\n",
       "    </tr>\n",
       "  </thead>\n",
       "  <tbody>\n",
       "    <tr>\n",
       "      <th>44</th>\n",
       "      <td>276</td>\n",
       "      <td>Grindavik</td>\n",
       "      <td>IS</td>\n",
       "      <td>30.2</td>\n",
       "      <td>sleet</td>\n",
       "      <td>63.8424</td>\n",
       "      <td>-22.4338</td>\n",
       "      <td>Northern Light Inn &amp; Max's Restaurant</td>\n",
       "    </tr>\n",
       "  </tbody>\n",
       "</table>\n",
       "</div>"
      ],
      "text/plain": [
       "    City_ID       City Country  Max Temp Weather Description      Lat  \\\n",
       "44      276  Grindavik      IS      30.2               sleet  63.8424   \n",
       "\n",
       "        Lng                             Hotel Name  \n",
       "44 -22.4338  Northern Light Inn & Max's Restaurant  "
      ]
     },
     "execution_count": 35,
     "metadata": {},
     "output_type": "execute_result"
    }
   ],
   "source": [
    "vacation_stop1"
   ]
  },
  {
   "cell_type": "code",
   "execution_count": 36,
   "metadata": {},
   "outputs": [
    {
     "data": {
      "text/html": [
       "<div>\n",
       "<style scoped>\n",
       "    .dataframe tbody tr th:only-of-type {\n",
       "        vertical-align: middle;\n",
       "    }\n",
       "\n",
       "    .dataframe tbody tr th {\n",
       "        vertical-align: top;\n",
       "    }\n",
       "\n",
       "    .dataframe thead th {\n",
       "        text-align: right;\n",
       "    }\n",
       "</style>\n",
       "<table border=\"1\" class=\"dataframe\">\n",
       "  <thead>\n",
       "    <tr style=\"text-align: right;\">\n",
       "      <th></th>\n",
       "      <th>City_ID</th>\n",
       "      <th>City</th>\n",
       "      <th>Country</th>\n",
       "      <th>Max Temp</th>\n",
       "      <th>Weather Description</th>\n",
       "      <th>Lat</th>\n",
       "      <th>Lng</th>\n",
       "      <th>Hotel Name</th>\n",
       "    </tr>\n",
       "  </thead>\n",
       "  <tbody>\n",
       "    <tr>\n",
       "      <th>10</th>\n",
       "      <td>83</td>\n",
       "      <td>Olafsvik</td>\n",
       "      <td>IS</td>\n",
       "      <td>33.6</td>\n",
       "      <td>overcast clouds</td>\n",
       "      <td>64.8945</td>\n",
       "      <td>-23.7142</td>\n",
       "      <td>Hotel Olafsvik</td>\n",
       "    </tr>\n",
       "  </tbody>\n",
       "</table>\n",
       "</div>"
      ],
      "text/plain": [
       "    City_ID      City Country  Max Temp Weather Description      Lat      Lng  \\\n",
       "10       83  Olafsvik      IS      33.6     overcast clouds  64.8945 -23.7142   \n",
       "\n",
       "        Hotel Name  \n",
       "10  Hotel Olafsvik  "
      ]
     },
     "execution_count": 36,
     "metadata": {},
     "output_type": "execute_result"
    }
   ],
   "source": [
    "vacation_stop2"
   ]
  },
  {
   "cell_type": "code",
   "execution_count": 27,
   "metadata": {},
   "outputs": [],
   "source": [
    "# 6. Get the latitude-longitude pairs as tuples from each city DataFrame using the to_numpy function and list indexing.\n",
    "start = vacation_start['Lat'].to_numpy()[0], vacation_start['Lng'].to_numpy()[0]\n",
    "end = vacation_end['Lat'].to_numpy()[0], vacation_end['Lng'].to_numpy()[0]\n",
    "stop1 = vacation_stop1['Lat'].to_numpy()[0], vacation_stop1['Lng'].to_numpy()[0]\n",
    "stop2 = vacation_stop2['Lat'].to_numpy()[0], vacation_stop2['Lng'].to_numpy()[0]\n",
    "stop3 = vacation_stop3['Lat'].to_numpy()[0], vacation_stop3['Lng'].to_numpy()[0]"
   ]
  },
  {
   "cell_type": "code",
   "execution_count": 29,
   "metadata": {
    "scrolled": true
   },
   "outputs": [
    {
     "data": {
      "application/vnd.jupyter.widget-view+json": {
       "model_id": "bfbc99dffb0647679b93dfac68b59f6b",
       "version_major": 2,
       "version_minor": 0
      },
      "text/plain": [
       "Figure(layout=FigureLayout(height='420px'))"
      ]
     },
     "metadata": {},
     "output_type": "display_data"
    }
   ],
   "source": [
    "# 7. Create a direction layer map using the start and end latitude-longitude pairs,\n",
    "# and stop1, stop2, and stop3 as the waypoints. The travel_mode should be \"DRIVING\", \"BICYCLING\", or \"WALKING\".\n",
    "fig = gmaps.figure()\n",
    "vacation_itinerary = gmaps.directions_layer(\n",
    "        start, end, waypoints=[stop1, stop2, stop3],\n",
    "        travel_mode='DRIVING')\n",
    "\n",
    "fig.add_layer(vacation_itinerary)\n",
    "fig"
   ]
  },
  {
   "cell_type": "code",
   "execution_count": 31,
   "metadata": {},
   "outputs": [
    {
     "data": {
      "text/html": [
       "<div>\n",
       "<style scoped>\n",
       "    .dataframe tbody tr th:only-of-type {\n",
       "        vertical-align: middle;\n",
       "    }\n",
       "\n",
       "    .dataframe tbody tr th {\n",
       "        vertical-align: top;\n",
       "    }\n",
       "\n",
       "    .dataframe thead th {\n",
       "        text-align: right;\n",
       "    }\n",
       "</style>\n",
       "<table border=\"1\" class=\"dataframe\">\n",
       "  <thead>\n",
       "    <tr style=\"text-align: right;\">\n",
       "      <th></th>\n",
       "      <th>City_ID</th>\n",
       "      <th>City</th>\n",
       "      <th>Country</th>\n",
       "      <th>Max Temp</th>\n",
       "      <th>Weather Description</th>\n",
       "      <th>Lat</th>\n",
       "      <th>Lng</th>\n",
       "      <th>Hotel Name</th>\n",
       "    </tr>\n",
       "  </thead>\n",
       "  <tbody>\n",
       "    <tr>\n",
       "      <th>0</th>\n",
       "      <td>250</td>\n",
       "      <td>Vestmannaeyjar</td>\n",
       "      <td>IS</td>\n",
       "      <td>36.73</td>\n",
       "      <td>overcast clouds</td>\n",
       "      <td>63.4427</td>\n",
       "      <td>-20.2734</td>\n",
       "      <td>Glamping &amp; Camping</td>\n",
       "    </tr>\n",
       "    <tr>\n",
       "      <th>1</th>\n",
       "      <td>276</td>\n",
       "      <td>Grindavik</td>\n",
       "      <td>IS</td>\n",
       "      <td>30.20</td>\n",
       "      <td>sleet</td>\n",
       "      <td>63.8424</td>\n",
       "      <td>-22.4338</td>\n",
       "      <td>Northern Light Inn &amp; Max's Restaurant</td>\n",
       "    </tr>\n",
       "    <tr>\n",
       "      <th>2</th>\n",
       "      <td>83</td>\n",
       "      <td>Olafsvik</td>\n",
       "      <td>IS</td>\n",
       "      <td>33.60</td>\n",
       "      <td>overcast clouds</td>\n",
       "      <td>64.8945</td>\n",
       "      <td>-23.7142</td>\n",
       "      <td>Hotel Olafsvik</td>\n",
       "    </tr>\n",
       "    <tr>\n",
       "      <th>3</th>\n",
       "      <td>251</td>\n",
       "      <td>Husavik</td>\n",
       "      <td>IS</td>\n",
       "      <td>35.60</td>\n",
       "      <td>broken clouds</td>\n",
       "      <td>66.0449</td>\n",
       "      <td>-17.3389</td>\n",
       "      <td>Bjarnabúð</td>\n",
       "    </tr>\n",
       "  </tbody>\n",
       "</table>\n",
       "</div>"
      ],
      "text/plain": [
       "   City_ID            City Country  Max Temp Weather Description      Lat  \\\n",
       "0      250  Vestmannaeyjar      IS     36.73     overcast clouds  63.4427   \n",
       "1      276       Grindavik      IS     30.20               sleet  63.8424   \n",
       "2       83        Olafsvik      IS     33.60     overcast clouds  64.8945   \n",
       "3      251         Husavik      IS     35.60       broken clouds  66.0449   \n",
       "\n",
       "       Lng                             Hotel Name  \n",
       "0 -20.2734                     Glamping & Camping  \n",
       "1 -22.4338  Northern Light Inn & Max's Restaurant  \n",
       "2 -23.7142                         Hotel Olafsvik  \n",
       "3 -17.3389                              Bjarnabúð  "
      ]
     },
     "execution_count": 31,
     "metadata": {},
     "output_type": "execute_result"
    }
   ],
   "source": [
    "# 8. To create a marker layer map between the four cities.\n",
    "#  Combine the four city DataFrames into one DataFrame using the concat() function.\n",
    "itinerary_df = pd.concat([vacation_start, vacation_stop1, vacation_stop2, vacation_stop3],ignore_index=True)\n",
    "itinerary_df"
   ]
  },
  {
   "cell_type": "code",
   "execution_count": 9,
   "metadata": {},
   "outputs": [],
   "source": [
    "# 9 Using the template add city name, the country code, the weather description and maximum temperature for the city. \n",
    "info_box_template = \"\"\"\n",
    "<dl>\n",
    "<dt>Hotel Name</dt><dd>{Hotel Name}</dd>\n",
    "<dt>City</dt><dd>{City}</dd>\n",
    "<dt>Country</dt><dd>{Country}</dd>\n",
    "<dt>Current Weather</dt><dd>{Weather Description} and {Max Temp} °F</dd>\n",
    "</dl>\n",
    "\"\"\"\n",
    "# 10a Get the data from each row and add it to the formatting template and store the data in a list.\n",
    "hotel_info = [info_box_template.format(**row) for index, row in itinerary_df.iterrows()]\n",
    "\n",
    "# 10b. Get the latitude and longitude from each row and store in a new DataFrame.\n",
    "locations = itinerary_df[[\"Lat\", \"Lng\"]]"
   ]
  },
  {
   "cell_type": "code",
   "execution_count": 32,
   "metadata": {},
   "outputs": [
    {
     "data": {
      "application/vnd.jupyter.widget-view+json": {
       "model_id": "bfbc99dffb0647679b93dfac68b59f6b",
       "version_major": 2,
       "version_minor": 0
      },
      "text/plain": [
       "Figure(layout=FigureLayout(height='420px'))"
      ]
     },
     "metadata": {},
     "output_type": "display_data"
    }
   ],
   "source": [
    "# 11a. Add a marker layer for each city to the map.\n",
    "marker_layer = gmaps.marker_layer(locations, info_box_content=hotel_info)\n",
    "vacation_itinerary = gmaps.directions_layer(\n",
    "        start, end, waypoints=[stop1, stop2, stop3],\n",
    "        travel_mode='DRIVING')\n",
    "\n",
    "fig.add_layer(marker_layer)\n",
    "fig.add_layer(vacation_itinerary)\n",
    "# 11b. Display the figure\n",
    "fig"
   ]
  },
  {
   "cell_type": "code",
   "execution_count": null,
   "metadata": {},
   "outputs": [],
   "source": []
  }
 ],
 "metadata": {
  "kernelspec": {
   "display_name": "Python 3 (ipykernel)",
   "language": "python",
   "name": "python3"
  },
  "language_info": {
   "codemirror_mode": {
    "name": "ipython",
    "version": 3
   },
   "file_extension": ".py",
   "mimetype": "text/x-python",
   "name": "python",
   "nbconvert_exporter": "python",
   "pygments_lexer": "ipython3",
   "version": "3.9.12"
  },
  "latex_envs": {
   "LaTeX_envs_menu_present": true,
   "autoclose": false,
   "autocomplete": true,
   "bibliofile": "biblio.bib",
   "cite_by": "apalike",
   "current_citInitial": 1,
   "eqLabelWithNumbers": true,
   "eqNumInitial": 1,
   "hotkeys": {
    "equation": "Ctrl-E",
    "itemize": "Ctrl-I"
   },
   "labels_anchors": false,
   "latex_user_defs": false,
   "report_style_numbering": false,
   "user_envs_cfg": false
  }
 },
 "nbformat": 4,
 "nbformat_minor": 2
}
